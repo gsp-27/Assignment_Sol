{
 "cells": [
  {
   "cell_type": "markdown",
   "metadata": {},
   "source": [
    "#### Logistic Regression using Newton's method as the minimization technique\n",
    "Newton's Method: ${\\theta = \\theta - \\frac{f'(\\theta)} {f''(\\theta)}}$ , where ${f(\\theta) = \\sum{y^{i} * h(\\theta) + (1 - y^{i}) * (1 - h(\\theta))}}$ and finally ${h(\\theta) = \\sigma(\\theta'x) = \\frac{1}{1 + e^{-\\theta'x}}}$"
   ]
  },
  {
   "cell_type": "code",
   "execution_count": 3,
   "metadata": {
    "collapsed": true
   },
   "outputs": [],
   "source": [
    "%matplotlib inline\n",
    "import numpy as np\n",
    "import matplotlib.pyplot as plt\n",
    "import scipy.io\n",
    "import math"
   ]
  },
  {
   "cell_type": "code",
   "execution_count": 4,
   "metadata": {
    "collapsed": false
   },
   "outputs": [],
   "source": [
    "datax = np.loadtxt('q1x.dat.txt')\n",
    "y = np.loadtxt('q1y.dat.txt')\n",
    "\n",
    "# no of training examples\n",
    "m = y.shape[0]\n",
    "X = np.concatenate((np.ones((m, 1)), datax), axis=1)\n",
    "# number of dimensions\n",
    "n = X.shape[1]"
   ]
  },
  {
   "cell_type": "code",
   "execution_count": 21,
   "metadata": {
    "collapsed": false
   },
   "outputs": [],
   "source": [
    "def H(X, W):\n",
    "    xw = X.dot(W)\n",
    "    return 1.0 / (1 + np.exp(-xw))"
   ]
  },
  {
   "cell_type": "code",
   "execution_count": 22,
   "metadata": {
    "collapsed": true
   },
   "outputs": [],
   "source": [
    "def CalcObj(X, Y, W):\n",
    "    return Y.dot(np.log(H(X, W))) + (1 - Y).dot(np.log(1 - H(X, W)))"
   ]
  },
  {
   "cell_type": "code",
   "execution_count": 23,
   "metadata": {
    "collapsed": false
   },
   "outputs": [],
   "source": [
    "def Grad(X, Y, W):\n",
    "    return (Y - H(X, W)).dot(X)"
   ]
  },
  {
   "cell_type": "code",
   "execution_count": 24,
   "metadata": {
    "collapsed": true
   },
   "outputs": [],
   "source": [
    "def Hessian(X, W):\n",
    "    # First Upscale the hypothesis and the 1 - hypothesis actually convert them into diagonal matrices\n",
    "    H_mat = H(X,W) * np.eye(X.shape[0])\n",
    "    H1_mat = (1 - H(X, W)) * np.eye(X.shape[0])\n",
    "    term1 = X.T.dot(H_mat)\n",
    "    term2 = H1_mat.dot(X)\n",
    "    return (-1)*term1.dot(term2)"
   ]
  },
  {
   "cell_type": "code",
   "execution_count": 25,
   "metadata": {
    "collapsed": true
   },
   "outputs": [],
   "source": [
    "def update_params(X, Y, W):\n",
    "    hessian = Hessian(X, W)\n",
    "    grad = Grad(X, Y, W)\n",
    "    return W - np.linalg.inv(hessian).dot(grad)"
   ]
  },
  {
   "cell_type": "code",
   "execution_count": 26,
   "metadata": {
    "collapsed": true
   },
   "outputs": [],
   "source": [
    "def check_convergence(newObj, oldObj, tol):\n",
    "    if np.abs(newObj - oldObj) <= tol:\n",
    "        return True\n",
    "    else:\n",
    "        return False"
   ]
  },
  {
   "cell_type": "code",
   "execution_count": 56,
   "metadata": {
    "collapsed": true
   },
   "outputs": [],
   "source": [
    "def newtons_method(X, Y):\n",
    "    W = np.zeros((X.shape[1]))\n",
    "    i = 0\n",
    "    while True:\n",
    "        oldObj = CalcObj(X, Y, W)\n",
    "        W = update_params(X, Y, W)\n",
    "        newObj = CalcObj(X, Y, W)\n",
    "        if check_convergence(oldObj, newObj, tol=0.00001) == True:\n",
    "            i += 1\n",
    "            break\n",
    "        else:\n",
    "            i += 1\n",
    "    return W, i"
   ]
  },
  {
   "cell_type": "code",
   "execution_count": 57,
   "metadata": {
    "collapsed": false
   },
   "outputs": [
    {
     "name": "stdout",
     "output_type": "stream",
     "text": [
      "[-2.6205116   0.76037154  1.17194674] 6\n"
     ]
    }
   ],
   "source": [
    "weights, iterations = newtons_method(X, y)\n",
    "print weights, iterations"
   ]
  },
  {
   "cell_type": "code",
   "execution_count": 58,
   "metadata": {
    "collapsed": false
   },
   "outputs": [
    {
     "data": {
      "text/plain": [
       "[<matplotlib.lines.Line2D at 0x7f7b3e6df0d0>]"
      ]
     },
     "execution_count": 58,
     "metadata": {},
     "output_type": "execute_result"
    },
    {
     "data": {
      "image/png": "[encoded data removed]",
      "text/plain": [
       "<matplotlib.figure.Figure at 0x7f7b3e6df590>"
      ]
     },
     "metadata": {},
     "output_type": "display_data"
    }
   ],
   "source": [
    "# plotting the graph\n",
    "x1 = X[y == 1.0]\n",
    "plt.scatter(x1[:, 1], x1[:, 2], marker='v', color='blue')\n",
    "x0 = X[y == 0.0]\n",
    "plt.scatter(x0[:,1], x0[:, 2], marker='o', color='red')\n",
    "\n",
    "x_axis = np.linspace(np.min(X[:,1]), np.max(X[:,1]), 100)\n",
    "y_axis = -(weights[0] + weights[1] * x_axis) / weights[2]\n",
    "plt.plot(x_axis, y_axis, color='black')"
   ]
  },
  {
   "cell_type": "markdown",
   "metadata": {},
   "source": [
    "#### Weighted Linear Regression using Normal equations"
   ]
  },
  {
   "cell_type": "code",
   "execution_count": null,
   "metadata": {
    "collapsed": true
   },
   "outputs": [],
   "source": []
  }
 ],
 "metadata": {
  "kernelspec": {
   "display_name": "Python 2",
   "language": "python",
   "name": "python2"
  },
  "language_info": {
   "codemirror_mode": {
    "name": "ipython",
    "version": 2
   },
   "file_extension": ".py",
   "mimetype": "text/x-python",
   "name": "python",
   "nbconvert_exporter": "python",
   "pygments_lexer": "ipython2",
   "version": "2.7.6"
  }
 },
 "nbformat": 4,
 "nbformat_minor": 0
}
