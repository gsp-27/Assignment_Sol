{
 "cells": [
  {
   "cell_type": "markdown",
   "metadata": {},
   "source": [
    "#### Logistic Regression using Newton's method as the minimization technique\n",
    "Newton's Method: ${\\theta = \\theta - \\frac{f'(\\theta)} {f''(\\theta)}}$ , where ${f(\\theta) = \\sum{y^{i} * h(\\theta) + (1 - y^{i}) * (1 - h(\\theta))}}$ and finally ${h(\\theta) = \\sigma(\\theta'x) = \\frac{1}{1 + e^{-\\theta'x}}}$"
   ]
  },
  {
   "cell_type": "code",
   "execution_count": 2,
   "metadata": {
    "collapsed": true
   },
   "outputs": [],
   "source": [
    "%matplotlib inline\n",
    "import numpy as np\n",
    "import matplotlib.pyplot as plt\n",
    "import scipy.io\n",
    "import math"
   ]
  },
  {
   "cell_type": "code",
   "execution_count": 4,
   "metadata": {
    "collapsed": false
   },
   "outputs": [],
   "source": [
    "datax = np.loadtxt('q1x.dat.txt')\n",
    "y = np.loadtxt('q1y.dat.txt')\n",
    "\n",
    "# no of training examples\n",
    "m = y.shape[0]\n",
    "X = np.concatenate((np.ones((m, 1)), datax), axis=1)\n",
    "# number of dimensions\n",
    "n = X.shape[1]"
   ]
  },
  {
   "cell_type": "code",
   "execution_count": 21,
   "metadata": {
    "collapsed": false
   },
   "outputs": [],
   "source": [
    "def H(X, W):\n",
    "    xw = X.dot(W)\n",
    "    return 1.0 / (1 + np.exp(-xw))"
   ]
  },
  {
   "cell_type": "code",
   "execution_count": 22,
   "metadata": {
    "collapsed": true
   },
   "outputs": [],
   "source": [
    "def CalcObj(X, Y, W):\n",
    "    return Y.dot(np.log(H(X, W))) + (1 - Y).dot(np.log(1 - H(X, W)))"
   ]
  },
  {
   "cell_type": "code",
   "execution_count": 23,
   "metadata": {
    "collapsed": false
   },
   "outputs": [],
   "source": [
    "def Grad(X, Y, W):\n",
    "    return (Y - H(X, W)).dot(X)"
   ]
  },
  {
   "cell_type": "code",
   "execution_count": 24,
   "metadata": {
    "collapsed": true
   },
   "outputs": [],
   "source": [
    "def Hessian(X, W):\n",
    "    # First Upscale the hypothesis and the 1 - hypothesis actually convert them into diagonal matrices\n",
    "    H_mat = H(X,W) * np.eye(X.shape[0])\n",
    "    H1_mat = (1 - H(X, W)) * np.eye(X.shape[0])\n",
    "    term1 = X.T.dot(H_mat)\n",
    "    term2 = H1_mat.dot(X)\n",
    "    return (-1)*term1.dot(term2)"
   ]
  },
  {
   "cell_type": "code",
   "execution_count": 25,
   "metadata": {
    "collapsed": true
   },
   "outputs": [],
   "source": [
    "def update_params(X, Y, W):\n",
    "    hessian = Hessian(X, W)\n",
    "    grad = Grad(X, Y, W)\n",
    "    return W - np.linalg.inv(hessian).dot(grad)"
   ]
  },
  {
   "cell_type": "code",
   "execution_count": 26,
   "metadata": {
    "collapsed": true
   },
   "outputs": [],
   "source": [
    "def check_convergence(newObj, oldObj, tol):\n",
    "    if np.abs(newObj - oldObj) <= tol:\n",
    "        return True\n",
    "    else:\n",
    "        return False"
   ]
  },
  {
   "cell_type": "code",
   "execution_count": 56,
   "metadata": {
    "collapsed": true
   },
   "outputs": [],
   "source": [
    "def newtons_method(X, Y):\n",
    "    W = np.zeros((X.shape[1]))\n",
    "    i = 0\n",
    "    while True:\n",
    "        oldObj = CalcObj(X, Y, W)\n",
    "        W = update_params(X, Y, W)\n",
    "        newObj = CalcObj(X, Y, W)\n",
    "        if check_convergence(oldObj, newObj, tol=0.00001) == True:\n",
    "            i += 1\n",
    "            break\n",
    "        else:\n",
    "            i += 1\n",
    "    return W, i"
   ]
  },
  {
   "cell_type": "code",
   "execution_count": 57,
   "metadata": {
    "collapsed": false
   },
   "outputs": [
    {
     "name": "stdout",
     "output_type": "stream",
     "text": [
      "[-2.6205116   0.76037154  1.17194674] 6\n"
     ]
    }
   ],
   "source": [
    "weights, iterations = newtons_method(X, y)\n",
    "print weights, iterations"
   ]
  },
  {
   "cell_type": "code",
   "execution_count": 58,
   "metadata": {
    "collapsed": false
   },
   "outputs": [
    {
     "data": {
      "text/plain": [
       "[<matplotlib.lines.Line2D at 0x7f7b3e6df0d0>]"
      ]
     },
     "execution_count": 58,
     "metadata": {},
     "output_type": "execute_result"
    },
    {
     "data": {
      "image/png": "[encoded data removed]",
      "text/plain": [
       "<matplotlib.figure.Figure at 0x7f7b3e6df590>"
      ]
     },
     "metadata": {},
     "output_type": "display_data"
    }
   ],
   "source": [
    "# plotting the graph\n",
    "x1 = X[y == 1.0]\n",
    "plt.scatter(x1[:, 1], x1[:, 2], marker='v', color='blue')\n",
    "x0 = X[y == 0.0]\n",
    "plt.scatter(x0[:,1], x0[:, 2], marker='o', color='red')\n",
    "\n",
    "x_axis = np.linspace(np.min(X[:,1]), np.max(X[:,1]), 100)\n",
    "y_axis = -(weights[0] + weights[1] * x_axis) / weights[2]\n",
    "plt.plot(x_axis, y_axis, color='black')"
   ]
  },
  {
   "cell_type": "markdown",
   "metadata": {},
   "source": [
    "#### Weighted Linear Regression using Normal equations"
   ]
  },
  {
   "cell_type": "markdown",
   "metadata": {
    "collapsed": true
   },
   "source": [
    "##### Simple Linear Regression or Unweighted Linear Regression"
   ]
  },
  {
   "cell_type": "code",
   "execution_count": 123,
   "metadata": {
    "collapsed": false
   },
   "outputs": [],
   "source": [
    "# load the data\n",
    "X_lin = np.loadtxt('q2x.dat.txt').reshape((100,1))\n",
    "# add the one per row of the data\n",
    "m = X_lin.shape[0] # number of training Examples\n",
    "X = np.concatenate((np.ones((m, 1)), X_lin), axis=1)\n",
    "p = X_lin.shape[1] # no of features\n",
    "\n",
    "y = np.loadtxt('q2y.dat.txt')"
   ]
  },
  {
   "cell_type": "code",
   "execution_count": 124,
   "metadata": {
    "collapsed": false
   },
   "outputs": [
    {
     "name": "stdout",
     "output_type": "stream",
     "text": [
      "[ 0.32767539  0.17531122]\n"
     ]
    }
   ],
   "source": [
    "# find thetas using normal equations\n",
    "thetas = np.zeros((p))\n",
    "xtx = X.T.dot(X)\n",
    "xtxinv = np.linalg.pinv(xtx)\n",
    "xtxinvxt = xtxinv.dot(X.T)\n",
    "thetas = xtxinvxt.dot(y)\n",
    "print thetas"
   ]
  },
  {
   "cell_type": "code",
   "execution_count": 126,
   "metadata": {
    "collapsed": false
   },
   "outputs": [
    {
     "data": {
      "text/plain": [
       "<matplotlib.text.Text at 0x7f8ef56db150>"
      ]
     },
     "execution_count": 126,
     "metadata": {},
     "output_type": "execute_result"
    },
    {
     "data": {
      "image/png": "[encoded data removed]",
      "text/plain": [
       "<matplotlib.figure.Figure at 0x7f8ef5706a10>"
      ]
     },
     "metadata": {},
     "output_type": "display_data"
    }
   ],
   "source": [
    "# plotting the best fit line\n",
    "plt.scatter(X[:,1], y, color='blue')\n",
    "x_axis = np.linspace(np.min(X[:,1]), np.max(X[:,1]), 1000)\n",
    "y_axis = (thetas[0] + thetas[1] * x_axis)\n",
    "plt.plot(x_axis, y_axis, color='black')\n",
    "plt.xlabel('x')\n",
    "plt.ylabel('y')"
   ]
  },
  {
   "cell_type": "markdown",
   "metadata": {
    "collapsed": true
   },
   "source": [
    "##### Locally weighted Linear regression\n",
    "Not sure how to get the query point, so I have randomly sampled a point from the datset and then added a standard normal gaussian noise to it. Don't know if this method is right."
   ]
  },
  {
   "cell_type": "code",
   "execution_count": 128,
   "metadata": {
    "collapsed": false
   },
   "outputs": [
    {
     "name": "stdout",
     "output_type": "stream",
     "text": [
      "4.01345933655\n"
     ]
    }
   ],
   "source": [
    "X_lin = X_lin.reshape(X_lin.shape[0])\n",
    "# generate a random point\n",
    "x = np.sum(X_lin) / X_lin.shape[0]\n",
    "print x"
   ]
  },
  {
   "cell_type": "code",
   "execution_count": 129,
   "metadata": {
    "collapsed": false
   },
   "outputs": [
    {
     "name": "stdout",
     "output_type": "stream",
     "text": [
      "[ 2.9479534  -0.06975046]\n",
      "[-1.48760022  0.30603801]\n",
      "[-0.50194247  0.2128226 ]\n",
      "[ 0.67604719  0.10945327]\n",
      "[ 0.33996132  0.17229261]\n"
     ]
    }
   ],
   "source": [
    "# generating the weights for weighted linear regression\n",
    "thetas = list()\n",
    "np.seterr(over='ignore')\n",
    "for tau in [0.1, 0.3, 0.8, 2, 10]:\n",
    "    diff = x - X[:,1]\n",
    "    weights = np.exp((-1) * diff / (2.0 * (tau**2)), dtype=np.float64)\n",
    "    # print weights\n",
    "    # Coverting the weight matrix to m*m diagonal matrix\n",
    "    weight_mat = weights * np.eye(weights.shape[0])\n",
    "    # print weight_mat.shape\n",
    "    # Finally generating the thetas using the normal equation (X'WX)^-1X'Wy\n",
    "    theta = (np.linalg.inv(X.T.dot(weight_mat).dot(X)).dot(X.T).dot(weight_mat).dot(y))\n",
    "    print theta\n",
    "    thetas.append(theta)"
   ]
  },
  {
   "cell_type": "code",
   "execution_count": 130,
   "metadata": {
    "collapsed": false
   },
   "outputs": [
    {
     "name": "stdout",
     "output_type": "stream",
     "text": [
      "[array([ 2.9479534 , -0.06975046]), array([-1.48760022,  0.30603801]), array([-0.50194247,  0.2128226 ]), array([ 0.67604719,  0.10945327]), array([ 0.33996132,  0.17229261])]\n",
      "[ 2.9479534  -0.06975046]\n",
      "[-1.48760022  0.30603801]\n",
      "[-0.50194247  0.2128226 ]\n",
      "[ 0.67604719  0.10945327]\n",
      "[ 0.33996132  0.17229261]\n"
     ]
    },
    {
     "data": {
      "text/plain": [
       "<matplotlib.legend.Legend at 0x7f8ef5c1ca90>"
      ]
     },
     "execution_count": 130,
     "metadata": {},
     "output_type": "execute_result"
    },
    {
     "data": {
      "image/png": "[encoded data removed]",
      "text/plain": [
       "<matplotlib.figure.Figure at 0x7f8ef57bb850>"
      ]
     },
     "metadata": {},
     "output_type": "display_data"
    }
   ],
   "source": [
    "# plotting\n",
    "plt.figure(figsize=(10, 10))\n",
    "plt.scatter(X[:,1], y, color='blue')\n",
    "colors = ['black', 'orange', 'yellow', 'red', 'brown']\n",
    "tau = [0.1, 0.3, 0.8, 2, 10]\n",
    "print thetas\n",
    "x_axis = np.linspace(np.min(X[:,1]), np.max(X[:,1]), 100)\n",
    "\n",
    "for theta in range(len(thetas)):\n",
    "    print thetas[theta]\n",
    "    y_axis = (thetas[theta][0] + thetas[theta][1] * x_axis)\n",
    "    s = 't='+str(tau[theta])\n",
    "    plt.plot(x_axis, y_axis, color=colors[theta],label=s)\n",
    "plt.xlabel('x')\n",
    "plt.ylabel('y')\n",
    "plt.legend()"
   ]
  },
  {
   "cell_type": "markdown",
   "metadata": {},
   "source": [
    "### Problem 3: GLM's Poisson Responses\n",
    "##### Part a: Showing  Poisson belongs to exponential family\n",
    "${P(y) = \\frac{e^{-\\lambda} \\lambda^{y}}{y!}}$\n",
    "\n",
    "${P(y) = \\frac{e^{-\\lambda} e^{y  log(\\lambda)}}{y!}}$\n",
    "\n",
    "${P(y) = \\frac{e^{y  log(\\lambda) - \\lambda}}{y!}}$\n",
    "\n",
    "Comparing with the standard question of the **exponential Family**, we get\n",
    "\n",
    "${\\eta = log(\\lambda)}$, ${T(y) = y}$, ${a(\\eta) = \\lambda}$, ${B(y) = \\frac{1}{y!}}$\n",
    "\n",
    "Now, using the second assumption of GLM's we have,\n",
    "\n",
    "${E[y;x] = h_\\theta(x)}$, expected value for Poss(${\\lambda}$) = ${\\lambda}$.\n",
    "\n",
    "${\\lambda = h_\\theta(x)}$\n",
    "\n",
    "${e^{\\eta} = h_\\theta(x)}$, ${e^{\\theta'x^{(i)}} = h_\\theta(x)}$\n",
    "\n",
    "##### Part B: Given the data, calculating the log likelihood and the update rule for maximizing the log likelihood\n",
    "${P(y|x;\\theta) = \\sum_i log(\\frac{e^{-\\lambda} \\lambda^{y^{(i)}}}{y^{(i)}!})}$\n",
    "\n",
    "${\\sum_i{{log(e^{-\\lambda}) + log(\\lambda^{y^{(i)}})} - log(y^{(i)}!)}}$\n",
    "\n",
    "${\\sum_i {-\\lambda + y^{(i)} log(\\lambda) - log(y^{(i)}!)}}$\n",
    "\n",
    "${\\sum_i{-e^{\\theta'x^{(i)}} + y^{(i)}\\theta'x^{(i)} - log(y^{(i)}!)}}$\n",
    "\n",
    "To find gradient with respect to some ${\\theta_j}$, differentiating the above equation w.r.t to ${\\theta_j}$\n",
    "\n",
    "${\\frac{\\partial l(\\theta)}{\\partial \\theta_j} = \\sum_i{-e^{\\theta'x^{(i)}}x^{(i)}_j + y^{(i)}x^{(i)}_j}}$\n",
    "\n",
    "${\\sum_i{x^{(i)}_j(y^{(i)} - e^{\\theta'x^{(i)}})}}$\n",
    "\n",
    "${\\frac{\\partial l(\\theta)}{\\partial \\theta_j} = \\sum_i{x^{(i)}_j(y^{(i)} - h_\\theta(x^{(i)}))}}$\n",
    "\n",
    "So gradient acsent rule is, ${\\theta_j = \\theta_j + \\alpha(\\sum_i{x^{(i)}_j(y^{(i)} - h_\\theta(x^{(i)}))})}$"
   ]
  }
 ],
 "metadata": {
  "kernelspec": {
   "display_name": "Python 2",
   "language": "python",
   "name": "python2"
  },
  "language_info": {
   "codemirror_mode": {
    "name": "ipython",
    "version": 2
   },
   "file_extension": ".py",
   "mimetype": "text/x-python",
   "name": "python",
   "nbconvert_exporter": "python",
   "pygments_lexer": "ipython2",
   "version": "2.7.6"
  }
 },
 "nbformat": 4,
 "nbformat_minor": 0
}
