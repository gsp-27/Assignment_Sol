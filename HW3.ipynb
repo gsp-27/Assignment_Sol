{
 "cells": [
  {
   "cell_type": "code",
   "execution_count": 190,
   "metadata": {
    "collapsed": true
   },
   "outputs": [],
   "source": [
    "import numpy as np\n",
    "import matplotlib.pyplot as plt\n",
    "import scipy.io"
   ]
  },
  {
   "cell_type": "code",
   "execution_count": 187,
   "metadata": {
    "collapsed": true
   },
   "outputs": [],
   "source": [
    "data = scipy.io.loadmat('HW3Data.mat')"
   ]
  },
  {
   "cell_type": "code",
   "execution_count": 188,
   "metadata": {
    "collapsed": false
   },
   "outputs": [],
   "source": [
    "def logProd(x):\n",
    "    '''X here is the numpy array'''\n",
    "    return np.sum(x)"
   ]
  },
  {
   "cell_type": "code",
   "execution_count": 189,
   "metadata": {
    "collapsed": false
   },
   "outputs": [],
   "source": [
    "Xtrain = data['XTrain'].toarray()\n",
    "Ytrain = np.array(data['yTrain'])"
   ]
  },
  {
   "cell_type": "code",
   "execution_count": 195,
   "metadata": {
    "collapsed": false
   },
   "outputs": [],
   "source": [
    "xTest = data['XTest'].toarray()\n",
    "yTest = np.array(data['yTest'])"
   ]
  },
  {
   "cell_type": "code",
   "execution_count": 217,
   "metadata": {
    "collapsed": false
   },
   "outputs": [],
   "source": [
    "xTrainSmall = data['XTrainSmall'].toarray()\n",
    "yTrainSmall = np.array(data['yTrainSmall'])"
   ]
  },
  {
   "cell_type": "code",
   "execution_count": 166,
   "metadata": {
    "collapsed": false
   },
   "outputs": [],
   "source": [
    "# okay now i calculate my prior on y which is just bernoulli distribution\n",
    "def yprior(Ytrain):\n",
    "    n = Ytrain.shape[0]\n",
    "    numones = Ytrain[Ytrain == 1]\n",
    "    prob_yone = np.sum(numones) / float(n)\n",
    "    # i can do this using 1-prob_yone but just for sanity checking i am doing the calculation\n",
    "    numtwos = Ytrain == 2\n",
    "    prob_ytwo = np.sum(numtwos) / float(n)\n",
    "    return np.array([prob_yone, prob_ytwo])"
   ]
  },
  {
   "cell_type": "code",
   "execution_count": 161,
   "metadata": {
    "collapsed": false
   },
   "outputs": [],
   "source": [
    "def NB_XgivenY(Xtrain, Ytrain):\n",
    "    econodata = Ytrain == 1\n",
    "    oniondata = Ytrain == 2\n",
    "    economist_extractor = np.tile(econodata, (1, Xtrain.shape[1]))\n",
    "    economist_data = Xtrain[economist_extractor].reshape(np.sum(econodata),Xtrain.shape[1])\n",
    "    onion_extractor = np.tile(oniondata, (1, Xtrain.shape[1]))\n",
    "    onion_data = Xtrain[onion_extractor].reshape(np.sum(oniondata),Xtrain.shape[1])\n",
    "    #adding +1 for the prior B(2,1)\n",
    "    onion_prob = (np.sum(onion_data, axis=0) + 1) / float(np.sum(oniondata) + 1)\n",
    "    econ_prob = (np.sum(economist_data, axis=0) + 1) / float(np.sum(econodata) + 1)\n",
    "    onion_prob = onion_prob.reshape(1, onion_prob.shape[0])\n",
    "    econ_prob = econ_prob.reshape(1, econ_prob.shape[0])\n",
    "    return np.concatenate((econ_prob, onion_prob), axis=0)"
   ]
  },
  {
   "cell_type": "code",
   "execution_count": 171,
   "metadata": {
    "collapsed": false
   },
   "outputs": [
    {
     "name": "stdout",
     "output_type": "stream",
     "text": [
      "0.741379310345\n"
     ]
    }
   ],
   "source": [
    "p = yprior(Ytrain)\n",
    "print p[0]"
   ]
  },
  {
   "cell_type": "code",
   "execution_count": 170,
   "metadata": {
    "collapsed": false
   },
   "outputs": [
    {
     "name": "stdout",
     "output_type": "stream",
     "text": [
      "[[ 0.59164733  0.95591647  0.28538283 ...,  0.00232019  0.00232019\n",
      "   0.00232019]\n",
      " [ 0.67549669  1.          0.39735099 ...,  0.01324503  0.01324503\n",
      "   0.01324503]]\n"
     ]
    }
   ],
   "source": [
    "D = NB_XgivenY(Xtrain, Ytrain)\n",
    "print D"
   ]
  },
  {
   "cell_type": "code",
   "execution_count": 179,
   "metadata": {
    "collapsed": true
   },
   "outputs": [],
   "source": [
    "def NB_Classify(D, p, X):\n",
    "    '''Here is m * V matrix where each row corresponds to a feature vector'''\n",
    "    yhat = list()\n",
    "    m = X.shape[0]\n",
    "    for i in range(m):\n",
    "        # work on ith example\n",
    "        econ_pred = X[i, :] * D[0, :] + ((1 - X[i, :]) * (1 - D[0, :]))\n",
    "        onion_pred = X[i, :] * D[1, :] + ((1 - X[i, :]) * (1 - D[1, :]))\n",
    "        # the above operations generate the vector containing the prob value i need to multiply\n",
    "        # to avoid numerical errors we venture into log space log(p(y==1)) * sum(log(prob_values))\n",
    "        fecon_pred = np.log(p[0]) + np.sum(np.log(econ_pred))\n",
    "        fonion_pred = np.log(p[1]) + np.sum(np.log(onion_pred))\n",
    "        \n",
    "        # compare which is bigger and append the result in yhat\n",
    "        if fecon_pred > fonion_pred:\n",
    "            yhat.append(1)\n",
    "        else:\n",
    "            yhat.append(2)\n",
    "    return np.array(yhat)"
   ]
  },
  {
   "cell_type": "code",
   "execution_count": 184,
   "metadata": {
    "collapsed": false
   },
   "outputs": [
    {
     "name": "stderr",
     "output_type": "stream",
     "text": [
      "/usr/local/lib/python2.7/site-packages/ipykernel/__main__.py:12: RuntimeWarning: divide by zero encountered in log\n"
     ]
    }
   ],
   "source": [
    "prediction = NB_Classify(D, p, Xtrain)"
   ]
  },
  {
   "cell_type": "code",
   "execution_count": 208,
   "metadata": {
    "collapsed": true
   },
   "outputs": [],
   "source": [
    "def ClassificationError(yhat, ytruth):\n",
    "    error = yhat - ytruth.reshape(np.size(yhat))\n",
    "    return (np.sum(np.abs(error))) / float(np.size(yhat))"
   ]
  },
  {
   "cell_type": "code",
   "execution_count": 209,
   "metadata": {
    "collapsed": false
   },
   "outputs": [
    {
     "name": "stderr",
     "output_type": "stream",
     "text": [
      "/usr/local/lib/python2.7/site-packages/ipykernel/__main__.py:12: RuntimeWarning: divide by zero encountered in log\n"
     ]
    }
   ],
   "source": [
    "yhatTrain = NB_Classify(D, p, Xtrain)\n",
    "yhatTest = NB_Classify(D, p, xTest)"
   ]
  },
  {
   "cell_type": "code",
   "execution_count": 215,
   "metadata": {
    "collapsed": false
   },
   "outputs": [
    {
     "name": "stdout",
     "output_type": "stream",
     "text": [
      "testError is 0.0206896551724 train error is 0.0\n"
     ]
    }
   ],
   "source": [
    "trainError = ClassificationError(yhatTrain, Ytrain)\n",
    "testError = ClassificationError(yhatTest, yTest)\n",
    "print \"testError is\",testError, 'train error is', trainError"
   ]
  },
  {
   "cell_type": "code",
   "execution_count": 222,
   "metadata": {
    "collapsed": false
   },
   "outputs": [
    {
     "name": "stderr",
     "output_type": "stream",
     "text": [
      "/usr/local/lib/python2.7/site-packages/ipykernel/__main__.py:12: RuntimeWarning: divide by zero encountered in log\n"
     ]
    }
   ],
   "source": [
    "D = NB_XgivenY(xTrainSmall, yTrainSmall)\n",
    "p = yprior(yTrainSmall)\n",
    "yhatTrain = NB_Classify(D, p, xTrainSmall)\n",
    "yhatTest = NB_Classify(D, p, xTest)"
   ]
  },
  {
   "cell_type": "code",
   "execution_count": 223,
   "metadata": {
    "collapsed": false
   },
   "outputs": [
    {
     "name": "stdout",
     "output_type": "stream",
     "text": [
      "Test Error is 0.275862068966 Train Error is 0.0965517241379\n"
     ]
    }
   ],
   "source": [
    "smalltrainError = ClassificationError(yhatTrain, yTrainSmall)\n",
    "testError = ClassificationError(yhatTest, yTest)\n",
    "print \"Test Error is\", testError, 'Train Error is', smalltrainError"
   ]
  }
 ],
 "metadata": {
  "kernelspec": {
   "display_name": "Python 2",
   "language": "python",
   "name": "python2"
  },
  "language_info": {
   "codemirror_mode": {
    "name": "ipython",
    "version": 2
   },
   "file_extension": ".py",
   "mimetype": "text/x-python",
   "name": "python",
   "nbconvert_exporter": "python",
   "pygments_lexer": "ipython2",
   "version": "2.7.10"
  }
 },
 "nbformat": 4,
 "nbformat_minor": 0
}
